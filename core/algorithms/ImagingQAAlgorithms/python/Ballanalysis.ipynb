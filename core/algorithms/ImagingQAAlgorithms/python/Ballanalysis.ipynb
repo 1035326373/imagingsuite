{
 "cells": [
  {
   "cell_type": "code",
   "execution_count": 1,
   "metadata": {
    "collapsed": true
   },
   "outputs": [],
   "source": [
    "import numpy as np\n",
    "import matplotlib.pyplot as plt\n",
    "%matplotlib inline"
   ]
  },
  {
   "cell_type": "markdown",
   "metadata": {},
   "source": [
    "# Analyse the impact of the ball radius on the gauge angle \n",
    "The tangential surface of a discrete sphere can be considered to be flat if the span between chord and surface is less than 0.5 pixels. Using this constraint it is possible to calculate the cone angle of the gauge area."
   ]
  },
  {
   "cell_type": "code",
   "execution_count": 8,
   "metadata": {
    "collapsed": true
   },
   "outputs": [],
   "source": [
    "def ballarc(h, R) :\n",
    "    q=np.zeros(len(R))\n",
    "    L=np.zeros(len(R))\n",
    "    \n",
    "    for i in np.arange(0,len(R)):\n",
    "        r=R[i];\n",
    "        q[i]=0.5*np.arcsin(np.sqrt(2*h*r-h**2)/r)\n",
    "        L[i]=2*np.sqrt(2*r*h-h**2)\n",
    "        \n",
    "    return (q,L)\n"
   ]
  },
  {
   "cell_type": "code",
   "execution_count": 13,
   "metadata": {},
   "outputs": [
    {
     "data": {
      "text/plain": [
       "<matplotlib.text.Text at 0x10ebc0668>"
      ]
     },
     "execution_count": 13,
     "metadata": {},
     "output_type": "execute_result"
    },
    {
     "data": {
      "image/png": "[encoded data removed]",
      "text/plain": [
       "<matplotlib.figure.Figure at 0x10e80c320>"
      ]
     },
     "metadata": {},
     "output_type": "display_data"
    }
   ],
   "source": [
    "R=np.arange(1,200)\n",
    "(q,L)=ballarc(0.5,R)\n",
    "plt.subplot(1,2,1)\n",
    "plt.plot(R,q*180/np.pi)\n",
    "plt.title('Gauge cone angle')\n",
    "plt.subplot(1,2,2)\n",
    "plt.plot(R,L)\n",
    "plt.title('Width of the chord')"
   ]
  },
  {
   "cell_type": "code",
   "execution_count": null,
   "metadata": {
    "collapsed": true
   },
   "outputs": [],
   "source": []
  }
 ],
 "metadata": {
  "kernelspec": {
   "display_name": "Python 3",
   "language": "python",
   "name": "python3"
  },
  "language_info": {
   "codemirror_mode": {
    "name": "ipython",
    "version": 3
   },
   "file_extension": ".py",
   "mimetype": "text/x-python",
   "name": "python",
   "nbconvert_exporter": "python",
   "pygments_lexer": "ipython3",
   "version": "3.6.1"
  }
 },
 "nbformat": 4,
 "nbformat_minor": 2
}
